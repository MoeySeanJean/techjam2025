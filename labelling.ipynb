{
 "cells": [
  {
   "cell_type": "markdown",
   "id": "6677d8c5",
   "metadata": {},
   "source": [
    "# Labelling with OpenAI GPT 5 Nano"
   ]
  },
  {
   "cell_type": "markdown",
   "id": "c9c24972",
   "metadata": {},
   "source": [
    "## Install packages"
   ]
  },
  {
   "cell_type": "code",
   "execution_count": 24,
   "id": "8e706d70",
   "metadata": {},
   "outputs": [
    {
     "name": "stdout",
     "output_type": "stream",
     "text": [
      "Requirement already satisfied: openai in c:\\.conda\\envs\\techjam2025\\lib\\site-packages (1.102.0)\n",
      "Requirement already satisfied: python-dotenv in c:\\.conda\\envs\\techjam2025\\lib\\site-packages (1.1.1)\n",
      "Requirement already satisfied: pandas in c:\\.conda\\envs\\techjam2025\\lib\\site-packages (2.3.2)\n",
      "Requirement already satisfied: anyio<5,>=3.5.0 in c:\\.conda\\envs\\techjam2025\\lib\\site-packages (from openai) (4.10.0)\n",
      "Requirement already satisfied: distro<2,>=1.7.0 in c:\\.conda\\envs\\techjam2025\\lib\\site-packages (from openai) (1.9.0)\n",
      "Requirement already satisfied: httpx<1,>=0.23.0 in c:\\.conda\\envs\\techjam2025\\lib\\site-packages (from openai) (0.28.1)\n",
      "Requirement already satisfied: jiter<1,>=0.4.0 in c:\\.conda\\envs\\techjam2025\\lib\\site-packages (from openai) (0.10.0)\n",
      "Requirement already satisfied: pydantic<3,>=1.9.0 in c:\\.conda\\envs\\techjam2025\\lib\\site-packages (from openai) (2.11.7)\n",
      "Requirement already satisfied: sniffio in c:\\.conda\\envs\\techjam2025\\lib\\site-packages (from openai) (1.3.1)\n",
      "Requirement already satisfied: tqdm>4 in c:\\.conda\\envs\\techjam2025\\lib\\site-packages (from openai) (4.67.1)\n",
      "Requirement already satisfied: typing-extensions<5,>=4.11 in c:\\.conda\\envs\\techjam2025\\lib\\site-packages (from openai) (4.15.0)\n",
      "Requirement already satisfied: idna>=2.8 in c:\\.conda\\envs\\techjam2025\\lib\\site-packages (from anyio<5,>=3.5.0->openai) (3.10)\n",
      "Requirement already satisfied: certifi in c:\\.conda\\envs\\techjam2025\\lib\\site-packages (from httpx<1,>=0.23.0->openai) (2025.8.3)\n",
      "Requirement already satisfied: httpcore==1.* in c:\\.conda\\envs\\techjam2025\\lib\\site-packages (from httpx<1,>=0.23.0->openai) (1.0.9)\n",
      "Requirement already satisfied: h11>=0.16 in c:\\.conda\\envs\\techjam2025\\lib\\site-packages (from httpcore==1.*->httpx<1,>=0.23.0->openai) (0.16.0)\n",
      "Requirement already satisfied: annotated-types>=0.6.0 in c:\\.conda\\envs\\techjam2025\\lib\\site-packages (from pydantic<3,>=1.9.0->openai) (0.7.0)\n",
      "Requirement already satisfied: pydantic-core==2.33.2 in c:\\.conda\\envs\\techjam2025\\lib\\site-packages (from pydantic<3,>=1.9.0->openai) (2.33.2)\n",
      "Requirement already satisfied: typing-inspection>=0.4.0 in c:\\.conda\\envs\\techjam2025\\lib\\site-packages (from pydantic<3,>=1.9.0->openai) (0.4.1)\n",
      "Requirement already satisfied: numpy>=1.26.0 in c:\\.conda\\envs\\techjam2025\\lib\\site-packages (from pandas) (2.3.2)\n",
      "Requirement already satisfied: python-dateutil>=2.8.2 in c:\\.conda\\envs\\techjam2025\\lib\\site-packages (from pandas) (2.9.0.post0)\n",
      "Requirement already satisfied: pytz>=2020.1 in c:\\.conda\\envs\\techjam2025\\lib\\site-packages (from pandas) (2025.2)\n",
      "Requirement already satisfied: tzdata>=2022.7 in c:\\.conda\\envs\\techjam2025\\lib\\site-packages (from pandas) (2025.2)\n",
      "Requirement already satisfied: six>=1.5 in c:\\.conda\\envs\\techjam2025\\lib\\site-packages (from python-dateutil>=2.8.2->pandas) (1.17.0)\n",
      "Requirement already satisfied: colorama in c:\\.conda\\envs\\techjam2025\\lib\\site-packages (from tqdm>4->openai) (0.4.6)\n",
      "Note: you may need to restart the kernel to use updated packages.\n"
     ]
    }
   ],
   "source": [
    "%pip install openai python-dotenv pandas"
   ]
  },
  {
   "cell_type": "markdown",
   "id": "3d065ce6",
   "metadata": {},
   "source": [
    "## Import packages"
   ]
  },
  {
   "cell_type": "code",
   "execution_count": 212,
   "id": "e4cb293a",
   "metadata": {},
   "outputs": [],
   "source": [
    "from openai import OpenAI\n",
    "import os\n",
    "from dotenv import load_dotenv\n",
    "import pandas as pd\n",
    "import json\n",
    "import time\n",
    "import math"
   ]
  },
  {
   "cell_type": "markdown",
   "id": "03ab862d",
   "metadata": {},
   "source": [
    "## Login to OpenAI"
   ]
  },
  {
   "cell_type": "code",
   "execution_count": 111,
   "id": "d10802b5",
   "metadata": {},
   "outputs": [],
   "source": [
    "load_dotenv()\n",
    "openai_api_key = os.getenv(\"OPENAI_API_KEY\")\n",
    "client = OpenAI(api_key=openai_api_key)"
   ]
  },
  {
   "cell_type": "markdown",
   "id": "dba9b524",
   "metadata": {},
   "source": [
    "## Load data (kaggle)"
   ]
  },
  {
   "cell_type": "code",
   "execution_count": 26,
   "id": "b21b59f3",
   "metadata": {},
   "outputs": [
    {
     "name": "stdout",
     "output_type": "stream",
     "text": [
      "                     business_name    author_name  \\\n",
      "0  Haci'nin Yeri - Yigit Lokantasi    Gulsum Akar   \n",
      "1  Haci'nin Yeri - Yigit Lokantasi  Oguzhan Cetin   \n",
      "2  Haci'nin Yeri - Yigit Lokantasi     Yasin Kuyu   \n",
      "3  Haci'nin Yeri - Yigit Lokantasi     Orhan Kapu   \n",
      "4  Haci'nin Yeri - Yigit Lokantasi     Ozgur Sati   \n",
      "\n",
      "                                                text  \\\n",
      "0  We went to Marmaris with my wife for a holiday...   \n",
      "1  During my holiday in Marmaris we ate here to f...   \n",
      "2  Prices are very affordable. The menu in the ph...   \n",
      "3  Turkey's cheapest artisan restaurant and its f...   \n",
      "4  I don't know what you will look for in terms o...   \n",
      "\n",
      "                                               photo  rating  \\\n",
      "0         dataset/taste/hacinin_yeri_gulsum_akar.png       5   \n",
      "1        dataset/menu/hacinin_yeri_oguzhan_cetin.png       4   \n",
      "2  dataset/outdoor_atmosphere/hacinin_yeri_yasin_...       3   \n",
      "3  dataset/indoor_atmosphere/hacinin_yeri_orhan_k...       5   \n",
      "4           dataset/menu/hacinin_yeri_ozgur_sati.png       3   \n",
      "\n",
      "      rating_category  \n",
      "0               taste  \n",
      "1                menu  \n",
      "2  outdoor_atmosphere  \n",
      "3   indoor_atmosphere  \n",
      "4                menu  \n",
      "1100\n",
      "1100\n"
     ]
    }
   ],
   "source": [
    "df = pd.read_csv(\"./data/reviews.csv\")\n",
    "reviews = df[\"text\"].dropna().tolist()\n",
    "print(df.head())\n",
    "print(len(df))\n",
    "print(len(reviews))"
   ]
  },
  {
   "cell_type": "markdown",
   "id": "6704499b",
   "metadata": {},
   "source": [
    "## Creating prompt"
   ]
  },
  {
   "cell_type": "code",
   "execution_count": 217,
   "id": "afb7a8d7",
   "metadata": {},
   "outputs": [
    {
     "name": "stdout",
     "output_type": "stream",
     "text": [
      "Classify this review:\n",
      "<review>We went to Marmaris with my wife for a holiday. We chose this restaurant as a place for dinner based on the reviews and because we wanted juicy food. When we first went there was a serious queue. You proceed by taking the food you want in the form of an open buffet. Both vegetable dishes and meat dishes were plentiful. There was also dessert for those who wanted it. After you get what you want you pay at the cashier. They don't go through cards they work in cash. There was a lot of food variety. And the food prices were unbelievably cheap. We paid only 84 TL for all the meals here. It included buttermilk and bread. But unfortunately I can't say it's too clean as a place..</review>\n"
     ]
    }
   ],
   "source": [
    "SYSTEM_PROMPT_STRING = \"\"\"You are a strict moderation judge for location reviews. Classify each review into exactly ONE of:\n",
    "advertisement (self-promo, discount codes, contact links),\n",
    "irrelevant (off-topic, questions/chat unrelated to a real visit),\n",
    "rant_without_visit (angry/defamatory without evidence of an actual visit),\n",
    "clean (a normal on-topic review—positive or negative—from a real/likely visit).\n",
    "If multiple seem plausible, choose the most severe (advertisement > irrelevant > rant_without_visit > clean).\n",
    "Ignore emojis, casing, punctuation spam, and translation artifacts.\n",
    "Do not guess facts.\"\"\"\n",
    "\n",
    "schema = {\n",
    "    \"name\": \"google_reviews_label\",\n",
    "    \"schema\": {\n",
    "        \"type\": \"object\",\n",
    "        \"properties\": {\n",
    "            \"label\": {\"type\":\"string\",\"enum\":[\"advertisement\",\"irrelevant\",\"rant_without_visit\",\"clean\"]}\n",
    "        },\n",
    "        \"required\": [\"label\"],\n",
    "        \"additionalProperties\": False\n",
    "    }\n",
    "}\n",
    "\n",
    "prompts = [f\"Classify this review:\\n<review>{review}</review>\" for review in reviews]\n",
    "print(prompts[0])"
   ]
  },
  {
   "cell_type": "markdown",
   "id": "62e86200",
   "metadata": {},
   "source": [
    "## Labelling"
   ]
  },
  {
   "cell_type": "code",
   "execution_count": 218,
   "id": "45faf5f8",
   "metadata": {},
   "outputs": [],
   "source": [
    "jsonl_file = \"./data/requests.jsonl\"\n",
    "if os.path.exists(jsonl_file):\n",
    "    os.remove(jsonl_file)\n",
    "for i in range(math.ceil(len(prompts)/750)):\n",
    "    with open(jsonl_file, \"w\", encoding=\"utf-8\") as f:\n",
    "        for j, prompt in enumerate(prompts[i * 750:(i + 1) * 750], start=1):\n",
    "            request_obj = {\n",
    "                \"custom_id\": f\"{i*750 + j}\",\n",
    "                \"method\": \"POST\",\n",
    "                \"url\": \"/v1/chat/completions\",\n",
    "                \"body\": {\n",
    "                \"model\": \"gpt-5-nano\",\n",
    "                \"messages\": [\n",
    "                        {\"role\":\"system\",\"content\": SYSTEM_PROMPT_STRING},\n",
    "                        {\"role\":\"user\",\"content\": prompt}\n",
    "                    ]\n",
    "                }\n",
    "            }\n",
    "            f.write(json.dumps(request_obj) + \"\\n\")\n",
    "    batch_input_file = client.files.create(\n",
    "        file=open(jsonl_file, \"rb\"),\n",
    "        purpose=\"batch\"\n",
    "    )\n",
    "    batch_input_file_id = batch_input_file.id\n",
    "    batch = client.batches.create(\n",
    "        input_file_id=batch_input_file_id,\n",
    "        endpoint=\"/v1/chat/completions\",\n",
    "        completion_window=\"24h\",\n",
    "        metadata={\n",
    "            \"description\": \"nightly eval job\"\n",
    "        }\n",
    "    )\n",
    "    batch_id = batch.id\n",
    "    batch = client.batches.retrieve(batch_id)\n",
    "    while (batch.status != \"completed\"):\n",
    "        time.sleep(5)\n",
    "        batch = client.batches.retrieve(batch_id)\n",
    "    file_response = client.files.content(batch.output_file_id)\n",
    "    with open(\"./data/responses.jsonl\", \"a\", encoding=\"utf-8\") as f:\n",
    "        f.write(file_response.text)"
   ]
  },
  {
   "cell_type": "markdown",
   "id": "4d12b04c",
   "metadata": {},
   "source": [
    "## Save to csv file"
   ]
  },
  {
   "cell_type": "code",
   "execution_count": 219,
   "id": "f61de82c",
   "metadata": {},
   "outputs": [],
   "source": [
    "with open(\"./data/responses.jsonl\", \"r\", encoding=\"utf-8\") as f:\n",
    "    lines = f.read().splitlines()\n",
    "responses = [json.loads(line)[\"response\"][\"body\"][\"choices\"][0][\"message\"][\"content\"] for line in lines]\n",
    "df[\"label\"] = responses\n",
    "df.to_csv(\"./data/labeled.csv\", index=False)"
   ]
  },
  {
   "cell_type": "markdown",
   "id": "4ab8f883",
   "metadata": {},
   "source": [
    "## Change label to 0 and 1"
   ]
  },
  {
   "cell_type": "code",
   "execution_count": 220,
   "id": "f3ca749e",
   "metadata": {},
   "outputs": [
    {
     "name": "stdout",
     "output_type": "stream",
     "text": [
      "                                                text  label\n",
      "0  We went to Marmaris with my wife for a holiday...      0\n",
      "1  During my holiday in Marmaris we ate here to f...      0\n",
      "2  Prices are very affordable. The menu in the ph...      0\n",
      "3  Turkey's cheapest artisan restaurant and its f...      1\n",
      "4  I don't know what you will look for in terms o...      0\n"
     ]
    }
   ],
   "source": [
    "df = pd.read_csv(\"./data/labeled.csv\")\n",
    "df['label'] = df['label'].apply(lambda x: 0 if str(x).lower() == \"clean\" else 1)\n",
    "df = df[['text', 'label']]\n",
    "df.to_csv(\"./data/reviews_binary.csv\", index=False)\n",
    "print(df.head())"
   ]
  }
 ],
 "metadata": {
  "kernelspec": {
   "display_name": "techjam2025",
   "language": "python",
   "name": "python3"
  },
  "language_info": {
   "codemirror_mode": {
    "name": "ipython",
    "version": 3
   },
   "file_extension": ".py",
   "mimetype": "text/x-python",
   "name": "python",
   "nbconvert_exporter": "python",
   "pygments_lexer": "ipython3",
   "version": "3.13.5"
  }
 },
 "nbformat": 4,
 "nbformat_minor": 5
}
