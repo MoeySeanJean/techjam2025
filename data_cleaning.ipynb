{
 "cells": [
  {
   "cell_type": "markdown",
   "id": "590c3fdc",
   "metadata": {},
   "source": [
    "# Data Cleaning"
   ]
  },
  {
   "cell_type": "markdown",
   "id": "d84a2602",
   "metadata": {},
   "source": [
    "We clean the data by matching the amount of flagged reviews and clean reviews. This can reduce bias from our model."
   ]
  },
  {
   "cell_type": "markdown",
   "id": "baa847c6",
   "metadata": {},
   "source": [
    "## Install packages"
   ]
  },
  {
   "cell_type": "code",
   "execution_count": null,
   "id": "ed334735",
   "metadata": {},
   "outputs": [],
   "source": [
    "%pip install pandas"
   ]
  },
  {
   "cell_type": "markdown",
   "id": "c33472a9",
   "metadata": {},
   "source": [
    "## Import packages"
   ]
  },
  {
   "cell_type": "code",
   "execution_count": 4,
   "id": "83e4153a",
   "metadata": {},
   "outputs": [],
   "source": [
    "import pandas as pd"
   ]
  },
  {
   "cell_type": "markdown",
   "id": "7a7ce1ba",
   "metadata": {},
   "source": [
    "## Match amount of clean and flagged reviews"
   ]
  },
  {
   "cell_type": "markdown",
   "id": "a094f2ca",
   "metadata": {},
   "source": [
    "Due to the overwhelming amount of clean reviews, we match the amount of both reviews for less bias during training of our model."
   ]
  },
  {
   "cell_type": "code",
   "execution_count": null,
   "id": "53b34182",
   "metadata": {},
   "outputs": [
    {
     "name": "stdout",
     "output_type": "stream",
     "text": [
      "label\n",
      "clean                 1071\n",
      "irrelevant             546\n",
      "advertisement          271\n",
      "rant_without_visit     254\n",
      "Name: count, dtype: int64\n"
     ]
    },
    {
     "name": "stderr",
     "output_type": "stream",
     "text": [
      "C:\\Users\\Moey Sean Jean\\AppData\\Local\\Temp\\ipykernel_30124\\4040542543.py:1: DtypeWarning: Columns (8) have mixed types. Specify dtype option on import or set low_memory=False.\n",
      "  df = pd.read_csv(\"./data/review-Vermont_10-labeled-merged.csv\")\n"
     ]
    }
   ],
   "source": [
    "df = pd.read_csv(\"./data/review-Vermont_10-labeled.csv\")\n",
    "minority_classes = [\"advertisement\", \"rant_without_visit\", \"irrelevant\"]\n",
    "minority_df = df[df['label'].isin(minority_classes)]\n",
    "minority_total = len(minority_df)\n",
    "clean_df = df[df['label'] == \"clean\"].sample(minority_total, random_state=42)\n",
    "balanced_df = pd.concat([minority_df, clean_df]).reset_index(drop=True)\n",
    "print(balanced_df['label'].value_counts())"
   ]
  },
  {
   "cell_type": "markdown",
   "id": "f57d54e8",
   "metadata": {},
   "source": [
    "## Convert to 0 and 1"
   ]
  },
  {
   "cell_type": "markdown",
   "id": "aac347d4",
   "metadata": {},
   "source": [
    "0 is for clean review and 1 is for flagged review."
   ]
  },
  {
   "cell_type": "code",
   "execution_count": 3,
   "id": "503cea83",
   "metadata": {},
   "outputs": [
    {
     "name": "stdout",
     "output_type": "stream",
     "text": [
      "label\n",
      "1    1071\n",
      "0    1071\n",
      "Name: count, dtype: int64\n"
     ]
    }
   ],
   "source": [
    "balanced_df['label'] = balanced_df['label'].apply(lambda x: 0 if str(x).lower() == \"clean\" else 1)\n",
    "balanced_df = balanced_df[['text', 'label']]\n",
    "print(balanced_df['label'].value_counts())"
   ]
  },
  {
   "cell_type": "markdown",
   "id": "df2d0dff",
   "metadata": {},
   "source": [
    "## Save to csv"
   ]
  },
  {
   "cell_type": "markdown",
   "id": "fad4cf2e",
   "metadata": {},
   "source": [
    "Cleaned dataset will be saved to `./data`."
   ]
  },
  {
   "cell_type": "code",
   "execution_count": 11,
   "id": "2da4423a",
   "metadata": {},
   "outputs": [],
   "source": [
    "balanced_df.to_csv(\"./data/review-Vermont_10-cleaned.csv\", index=False)"
   ]
  }
 ],
 "metadata": {
  "kernelspec": {
   "display_name": "techjam2025",
   "language": "python",
   "name": "python3"
  },
  "language_info": {
   "codemirror_mode": {
    "name": "ipython",
    "version": 3
   },
   "file_extension": ".py",
   "mimetype": "text/x-python",
   "name": "python",
   "nbconvert_exporter": "python",
   "pygments_lexer": "ipython3",
   "version": "3.13.5"
  }
 },
 "nbformat": 4,
 "nbformat_minor": 5
}
