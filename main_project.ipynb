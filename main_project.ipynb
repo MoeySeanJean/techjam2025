{
 "cells": [
  {
   "cell_type": "markdown",
   "metadata": {},
   "source": [
    "extract 100 data to label"
   ]
  },
  {
   "cell_type": "code",
   "execution_count": 3,
   "metadata": {},
   "outputs": [
    {
     "name": "stdout",
     "output_type": "stream",
     "text": [
      "Saved first 100 reviews to first_100_reviews.csv\n"
     ]
    }
   ],
   "source": [
    "import json\n",
    "import pandas as pd\n",
    "\n",
    "# path to your original JSON file\n",
    "input_file = \"review-Vermont_10.json\"     # change this to your actual file name\n",
    "output_file = \"first_100_reviews.csv\"\n",
    "\n",
    "# read the JSON lines (each line is one review)\n",
    "reviews = []\n",
    "with open(input_file, \"r\", encoding=\"utf-8\") as f:\n",
    "    for i, line in enumerate(f):\n",
    "        if i >= 100:   # stop after 100\n",
    "            break\n",
    "        data = json.loads(line)\n",
    "        reviews.append({\n",
    "            \"timestamp\": data.get(\"time\", \"\"),         # using timestamp as ID\n",
    "            \"restaurant_id\": data.get(\"gmap_id\", \"\"),\n",
    "            \"user_id\": data.get(\"user_id\", \"\"),\n",
    "            \"rating\": data.get(\"rating\", \"\"),\n",
    "            \"review_text\": data.get(\"text\", \"\"),\n",
    "            \"gmap_id\": data.get(\"gmap_id\", \"\")\n",
    "        })\n",
    "\n",
    "# convert to DataFrame\n",
    "df = pd.DataFrame(reviews)\n",
    "\n",
    "# add your 3 label columns (all start as 0)\n",
    "\n",
    "# save to CSV for labeling in Excel/Google Sheets\n",
    "df.to_csv(output_file, index=False, encoding=\"utf-8\")\n",
    "\n",
    "print(\"Saved first 100 reviews to\", output_file)\n"
   ]
  },
  {
   "cell_type": "markdown",
   "metadata": {},
   "source": [
    " try to run openai api"
   ]
  },
  {
   "cell_type": "code",
   "execution_count": null,
   "metadata": {},
   "outputs": [],
   "source": []
  }
 ],
 "metadata": {
  "kernelspec": {
   "display_name": "Python 3",
   "language": "python",
   "name": "python3"
  },
  "language_info": {
   "codemirror_mode": {
    "name": "ipython",
    "version": 3
   },
   "file_extension": ".py",
   "mimetype": "text/x-python",
   "name": "python",
   "nbconvert_exporter": "python",
   "pygments_lexer": "ipython3",
   "version": "3.13.5"
  }
 },
 "nbformat": 4,
 "nbformat_minor": 2
}
