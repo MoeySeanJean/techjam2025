{
 "cells": [
  {
   "cell_type": "markdown",
   "id": "e330e9b7",
   "metadata": {},
   "source": [
    "# BERT solution"
   ]
  },
  {
   "cell_type": "markdown",
   "id": "a0e204a6",
   "metadata": {},
   "source": [
    "## Install packages"
   ]
  },
  {
   "cell_type": "code",
   "execution_count": 11,
   "id": "8f2fb74b",
   "metadata": {},
   "outputs": [
    {
     "name": "stdout",
     "output_type": "stream",
     "text": [
      "Requirement already satisfied: transformers in c:\\.conda\\envs\\techjam2025\\lib\\site-packages (4.55.4)\n",
      "Requirement already satisfied: datasets in c:\\.conda\\envs\\techjam2025\\lib\\site-packages (4.0.0)\n",
      "Requirement already satisfied: scikit-learn in c:\\.conda\\envs\\techjam2025\\lib\\site-packages (1.7.1)\n",
      "Requirement already satisfied: pandas in c:\\.conda\\envs\\techjam2025\\lib\\site-packages (2.3.2)\n",
      "Requirement already satisfied: filelock in c:\\.conda\\envs\\techjam2025\\lib\\site-packages (from transformers) (3.19.1)\n",
      "Requirement already satisfied: huggingface-hub<1.0,>=0.34.0 in c:\\.conda\\envs\\techjam2025\\lib\\site-packages (from transformers) (0.34.4)\n",
      "Requirement already satisfied: numpy>=1.17 in c:\\.conda\\envs\\techjam2025\\lib\\site-packages (from transformers) (2.3.2)\n",
      "Requirement already satisfied: packaging>=20.0 in c:\\.conda\\envs\\techjam2025\\lib\\site-packages (from transformers) (25.0)\n",
      "Requirement already satisfied: pyyaml>=5.1 in c:\\.conda\\envs\\techjam2025\\lib\\site-packages (from transformers) (6.0.2)\n",
      "Requirement already satisfied: regex!=2019.12.17 in c:\\.conda\\envs\\techjam2025\\lib\\site-packages (from transformers) (2025.7.34)\n",
      "Requirement already satisfied: requests in c:\\.conda\\envs\\techjam2025\\lib\\site-packages (from transformers) (2.32.5)\n",
      "Requirement already satisfied: tokenizers<0.22,>=0.21 in c:\\.conda\\envs\\techjam2025\\lib\\site-packages (from transformers) (0.21.4)\n",
      "Requirement already satisfied: safetensors>=0.4.3 in c:\\.conda\\envs\\techjam2025\\lib\\site-packages (from transformers) (0.6.2)\n",
      "Requirement already satisfied: tqdm>=4.27 in c:\\.conda\\envs\\techjam2025\\lib\\site-packages (from transformers) (4.67.1)\n",
      "Requirement already satisfied: fsspec>=2023.5.0 in c:\\.conda\\envs\\techjam2025\\lib\\site-packages (from huggingface-hub<1.0,>=0.34.0->transformers) (2025.3.0)\n",
      "Requirement already satisfied: typing-extensions>=3.7.4.3 in c:\\.conda\\envs\\techjam2025\\lib\\site-packages (from huggingface-hub<1.0,>=0.34.0->transformers) (4.15.0)\n",
      "Requirement already satisfied: pyarrow>=15.0.0 in c:\\.conda\\envs\\techjam2025\\lib\\site-packages (from datasets) (21.0.0)\n",
      "Requirement already satisfied: dill<0.3.9,>=0.3.0 in c:\\.conda\\envs\\techjam2025\\lib\\site-packages (from datasets) (0.3.8)\n",
      "Requirement already satisfied: xxhash in c:\\.conda\\envs\\techjam2025\\lib\\site-packages (from datasets) (3.5.0)\n",
      "Requirement already satisfied: multiprocess<0.70.17 in c:\\.conda\\envs\\techjam2025\\lib\\site-packages (from datasets) (0.70.16)\n",
      "Requirement already satisfied: aiohttp!=4.0.0a0,!=4.0.0a1 in c:\\.conda\\envs\\techjam2025\\lib\\site-packages (from fsspec[http]<=2025.3.0,>=2023.1.0->datasets) (3.12.15)\n",
      "Requirement already satisfied: scipy>=1.8.0 in c:\\.conda\\envs\\techjam2025\\lib\\site-packages (from scikit-learn) (1.16.1)\n",
      "Requirement already satisfied: joblib>=1.2.0 in c:\\.conda\\envs\\techjam2025\\lib\\site-packages (from scikit-learn) (1.5.2)\n",
      "Requirement already satisfied: threadpoolctl>=3.1.0 in c:\\.conda\\envs\\techjam2025\\lib\\site-packages (from scikit-learn) (3.6.0)\n",
      "Requirement already satisfied: python-dateutil>=2.8.2 in c:\\.conda\\envs\\techjam2025\\lib\\site-packages (from pandas) (2.9.0.post0)\n",
      "Requirement already satisfied: pytz>=2020.1 in c:\\.conda\\envs\\techjam2025\\lib\\site-packages (from pandas) (2025.2)\n",
      "Requirement already satisfied: tzdata>=2022.7 in c:\\.conda\\envs\\techjam2025\\lib\\site-packages (from pandas) (2025.2)\n",
      "Requirement already satisfied: aiohappyeyeballs>=2.5.0 in c:\\.conda\\envs\\techjam2025\\lib\\site-packages (from aiohttp!=4.0.0a0,!=4.0.0a1->fsspec[http]<=2025.3.0,>=2023.1.0->datasets) (2.6.1)\n",
      "Requirement already satisfied: aiosignal>=1.4.0 in c:\\.conda\\envs\\techjam2025\\lib\\site-packages (from aiohttp!=4.0.0a0,!=4.0.0a1->fsspec[http]<=2025.3.0,>=2023.1.0->datasets) (1.4.0)\n",
      "Requirement already satisfied: attrs>=17.3.0 in c:\\.conda\\envs\\techjam2025\\lib\\site-packages (from aiohttp!=4.0.0a0,!=4.0.0a1->fsspec[http]<=2025.3.0,>=2023.1.0->datasets) (25.3.0)\n",
      "Requirement already satisfied: frozenlist>=1.1.1 in c:\\.conda\\envs\\techjam2025\\lib\\site-packages (from aiohttp!=4.0.0a0,!=4.0.0a1->fsspec[http]<=2025.3.0,>=2023.1.0->datasets) (1.7.0)\n",
      "Requirement already satisfied: multidict<7.0,>=4.5 in c:\\.conda\\envs\\techjam2025\\lib\\site-packages (from aiohttp!=4.0.0a0,!=4.0.0a1->fsspec[http]<=2025.3.0,>=2023.1.0->datasets) (6.6.4)\n",
      "Requirement already satisfied: propcache>=0.2.0 in c:\\.conda\\envs\\techjam2025\\lib\\site-packages (from aiohttp!=4.0.0a0,!=4.0.0a1->fsspec[http]<=2025.3.0,>=2023.1.0->datasets) (0.3.2)\n",
      "Requirement already satisfied: yarl<2.0,>=1.17.0 in c:\\.conda\\envs\\techjam2025\\lib\\site-packages (from aiohttp!=4.0.0a0,!=4.0.0a1->fsspec[http]<=2025.3.0,>=2023.1.0->datasets) (1.20.1)\n",
      "Requirement already satisfied: idna>=2.0 in c:\\.conda\\envs\\techjam2025\\lib\\site-packages (from yarl<2.0,>=1.17.0->aiohttp!=4.0.0a0,!=4.0.0a1->fsspec[http]<=2025.3.0,>=2023.1.0->datasets) (3.10)\n",
      "Requirement already satisfied: six>=1.5 in c:\\.conda\\envs\\techjam2025\\lib\\site-packages (from python-dateutil>=2.8.2->pandas) (1.17.0)\n",
      "Requirement already satisfied: charset_normalizer<4,>=2 in c:\\.conda\\envs\\techjam2025\\lib\\site-packages (from requests->transformers) (3.4.3)\n",
      "Requirement already satisfied: urllib3<3,>=1.21.1 in c:\\.conda\\envs\\techjam2025\\lib\\site-packages (from requests->transformers) (2.5.0)\n",
      "Requirement already satisfied: certifi>=2017.4.17 in c:\\.conda\\envs\\techjam2025\\lib\\site-packages (from requests->transformers) (2025.8.3)\n",
      "Requirement already satisfied: colorama in c:\\.conda\\envs\\techjam2025\\lib\\site-packages (from tqdm>=4.27->transformers) (0.4.6)\n",
      "Note: you may need to restart the kernel to use updated packages.\n",
      "Looking in indexes: https://download.pytorch.org/whl/cu129\n",
      "Requirement already satisfied: torch in c:\\.conda\\envs\\techjam2025\\lib\\site-packages (2.8.0+cu129)\n",
      "Requirement already satisfied: torchvision in c:\\.conda\\envs\\techjam2025\\lib\\site-packages (0.23.0+cu129)\n",
      "Requirement already satisfied: filelock in c:\\.conda\\envs\\techjam2025\\lib\\site-packages (from torch) (3.19.1)\n",
      "Requirement already satisfied: typing-extensions>=4.10.0 in c:\\.conda\\envs\\techjam2025\\lib\\site-packages (from torch) (4.15.0)\n",
      "Requirement already satisfied: sympy>=1.13.3 in c:\\.conda\\envs\\techjam2025\\lib\\site-packages (from torch) (1.13.3)\n",
      "Requirement already satisfied: networkx in c:\\.conda\\envs\\techjam2025\\lib\\site-packages (from torch) (3.3)\n",
      "Requirement already satisfied: jinja2 in c:\\.conda\\envs\\techjam2025\\lib\\site-packages (from torch) (3.1.4)\n",
      "Requirement already satisfied: fsspec in c:\\.conda\\envs\\techjam2025\\lib\\site-packages (from torch) (2025.3.0)\n",
      "Requirement already satisfied: setuptools in c:\\.conda\\envs\\techjam2025\\lib\\site-packages (from torch) (78.1.1)\n",
      "Requirement already satisfied: numpy in c:\\.conda\\envs\\techjam2025\\lib\\site-packages (from torchvision) (2.3.2)\n",
      "Requirement already satisfied: pillow!=8.3.*,>=5.3.0 in c:\\.conda\\envs\\techjam2025\\lib\\site-packages (from torchvision) (11.0.0)\n",
      "Requirement already satisfied: mpmath<1.4,>=1.1.0 in c:\\.conda\\envs\\techjam2025\\lib\\site-packages (from sympy>=1.13.3->torch) (1.3.0)\n",
      "Requirement already satisfied: MarkupSafe>=2.0 in c:\\.conda\\envs\\techjam2025\\lib\\site-packages (from jinja2->torch) (2.1.5)\n",
      "Note: you may need to restart the kernel to use updated packages.\n"
     ]
    }
   ],
   "source": [
    "%pip install transformers datasets scikit-learn pandas\n",
    "%pip install torch torchvision --index-url https://download.pytorch.org/whl/cu129"
   ]
  },
  {
   "cell_type": "markdown",
   "id": "8568a368",
   "metadata": {},
   "source": [
    "## Import packages"
   ]
  },
  {
   "cell_type": "code",
   "execution_count": 34,
   "id": "0d86df68",
   "metadata": {},
   "outputs": [],
   "source": [
    "import torch\n",
    "from torch.optim import AdamW\n",
    "from torch.utils.data import DataLoader\n",
    "from transformers import BertTokenizer, BertForSequenceClassification\n",
    "from sklearn.model_selection import train_test_split\n",
    "from sklearn.metrics import classification_report\n",
    "from datasets import Dataset\n",
    "import pandas as pd"
   ]
  },
  {
   "cell_type": "markdown",
   "id": "6d92fe06",
   "metadata": {},
   "source": [
    "## Load data"
   ]
  },
  {
   "cell_type": "code",
   "execution_count": 35,
   "id": "d4f4358b",
   "metadata": {},
   "outputs": [],
   "source": [
    "data = pd.read_csv(\"./data/review-Vermont_10-cleaned.csv\")\n",
    "train_df, val_df = train_test_split(\n",
    "    data,\n",
    "    test_size=0.2,\n",
    "    stratify=data['label'],\n",
    "    random_state=42\n",
    ")\n",
    "train_dataset = Dataset.from_pandas(train_df.reset_index(drop=True))\n",
    "val_dataset = Dataset.from_pandas(val_df.reset_index(drop=True))"
   ]
  },
  {
   "cell_type": "markdown",
   "id": "92eff97b",
   "metadata": {},
   "source": [
    "## Load tokenizer"
   ]
  },
  {
   "cell_type": "code",
   "execution_count": 36,
   "id": "989b7a07",
   "metadata": {},
   "outputs": [
    {
     "data": {
      "application/vnd.jupyter.widget-view+json": {
       "model_id": "aaef3d6c2edc48aca59ad97fcb5c8f5d",
       "version_major": 2,
       "version_minor": 0
      },
      "text/plain": [
       "Map:   0%|          | 0/174 [00:00<?, ? examples/s]"
      ]
     },
     "metadata": {},
     "output_type": "display_data"
    },
    {
     "data": {
      "application/vnd.jupyter.widget-view+json": {
       "model_id": "a307a51234f6473b8d0282c6c2f36558",
       "version_major": 2,
       "version_minor": 0
      },
      "text/plain": [
       "Map:   0%|          | 0/44 [00:00<?, ? examples/s]"
      ]
     },
     "metadata": {},
     "output_type": "display_data"
    }
   ],
   "source": [
    "tokenizer = BertTokenizer.from_pretrained(\"bert-base-uncased\")\n",
    "def tokenize(batch):\n",
    "    return tokenizer(batch['text'], padding='max_length', truncation=True, max_length=128)\n",
    "train_dataset = train_dataset.map(tokenize, batched=True)\n",
    "val_dataset = val_dataset.map(tokenize, batched=True)\n",
    "train_dataset.set_format(type='torch', columns=['input_ids', 'attention_mask', 'label'])\n",
    "val_dataset.set_format(type='torch', columns=['input_ids', 'attention_mask', 'label'])\n",
    "train_loader = DataLoader(train_dataset, batch_size=8, shuffle=True)\n",
    "val_loader = DataLoader(val_dataset, batch_size=8)"
   ]
  },
  {
   "cell_type": "markdown",
   "id": "f6c5f8d7",
   "metadata": {},
   "source": [
    "## Load model"
   ]
  },
  {
   "cell_type": "code",
   "execution_count": 37,
   "id": "bccef283",
   "metadata": {},
   "outputs": [
    {
     "name": "stderr",
     "output_type": "stream",
     "text": [
      "Some weights of BertForSequenceClassification were not initialized from the model checkpoint at bert-base-uncased and are newly initialized: ['classifier.bias', 'classifier.weight']\n",
      "You should probably TRAIN this model on a down-stream task to be able to use it for predictions and inference.\n"
     ]
    }
   ],
   "source": [
    "device = torch.device(\"cuda\" if torch.cuda.is_available() else \"cpu\")\n",
    "model = BertForSequenceClassification.from_pretrained(\"bert-base-uncased\", num_labels=2)\n",
    "model.to(device)\n",
    "optimizer = AdamW(model.parameters(), lr=2e-5)"
   ]
  },
  {
   "cell_type": "markdown",
   "id": "80e9025c",
   "metadata": {},
   "source": [
    "## Training model"
   ]
  },
  {
   "cell_type": "code",
   "execution_count": 38,
   "id": "68692301",
   "metadata": {},
   "outputs": [
    {
     "name": "stdout",
     "output_type": "stream",
     "text": [
      "Epoch 1/10 - Training loss: 0.7050\n",
      "Validation Results:\n",
      "              precision    recall  f1-score   support\n",
      "\n",
      "       clean       0.51      0.91      0.66        22\n",
      "     flagged       0.60      0.14      0.22        22\n",
      "\n",
      "    accuracy                           0.52        44\n",
      "   macro avg       0.56      0.52      0.44        44\n",
      "weighted avg       0.56      0.52      0.44        44\n",
      "\n",
      "Epoch 2/10 - Training loss: 0.6002\n",
      "Validation Results:\n",
      "              precision    recall  f1-score   support\n",
      "\n",
      "       clean       0.62      0.82      0.71        22\n",
      "     flagged       0.73      0.50      0.59        22\n",
      "\n",
      "    accuracy                           0.66        44\n",
      "   macro avg       0.68      0.66      0.65        44\n",
      "weighted avg       0.68      0.66      0.65        44\n",
      "\n",
      "Epoch 3/10 - Training loss: 0.4442\n",
      "Validation Results:\n",
      "              precision    recall  f1-score   support\n",
      "\n",
      "       clean       0.59      0.91      0.71        22\n",
      "     flagged       0.80      0.36      0.50        22\n",
      "\n",
      "    accuracy                           0.64        44\n",
      "   macro avg       0.69      0.64      0.61        44\n",
      "weighted avg       0.69      0.64      0.61        44\n",
      "\n",
      "Epoch 4/10 - Training loss: 0.2542\n",
      "Validation Results:\n",
      "              precision    recall  f1-score   support\n",
      "\n",
      "       clean       0.68      0.77      0.72        22\n",
      "     flagged       0.74      0.64      0.68        22\n",
      "\n",
      "    accuracy                           0.70        44\n",
      "   macro avg       0.71      0.70      0.70        44\n",
      "weighted avg       0.71      0.70      0.70        44\n",
      "\n",
      "Epoch 5/10 - Training loss: 0.1100\n",
      "Validation Results:\n",
      "              precision    recall  f1-score   support\n",
      "\n",
      "       clean       0.62      0.73      0.67        22\n",
      "     flagged       0.67      0.55      0.60        22\n",
      "\n",
      "    accuracy                           0.64        44\n",
      "   macro avg       0.64      0.64      0.63        44\n",
      "weighted avg       0.64      0.64      0.63        44\n",
      "\n",
      "Epoch 6/10 - Training loss: 0.0493\n",
      "Validation Results:\n",
      "              precision    recall  f1-score   support\n",
      "\n",
      "       clean       0.62      0.68      0.65        22\n",
      "     flagged       0.65      0.59      0.62        22\n",
      "\n",
      "    accuracy                           0.64        44\n",
      "   macro avg       0.64      0.64      0.64        44\n",
      "weighted avg       0.64      0.64      0.64        44\n",
      "\n",
      "Epoch 7/10 - Training loss: 0.0264\n",
      "Validation Results:\n",
      "              precision    recall  f1-score   support\n",
      "\n",
      "       clean       0.56      0.86      0.68        22\n",
      "     flagged       0.70      0.32      0.44        22\n",
      "\n",
      "    accuracy                           0.59        44\n",
      "   macro avg       0.63      0.59      0.56        44\n",
      "weighted avg       0.63      0.59      0.56        44\n",
      "\n",
      "Epoch 8/10 - Training loss: 0.0276\n",
      "Validation Results:\n",
      "              precision    recall  f1-score   support\n",
      "\n",
      "       clean       0.65      0.68      0.67        22\n",
      "     flagged       0.67      0.64      0.65        22\n",
      "\n",
      "    accuracy                           0.66        44\n",
      "   macro avg       0.66      0.66      0.66        44\n",
      "weighted avg       0.66      0.66      0.66        44\n",
      "\n",
      "Epoch 9/10 - Training loss: 0.0115\n",
      "Validation Results:\n",
      "              precision    recall  f1-score   support\n",
      "\n",
      "       clean       0.58      0.86      0.69        22\n",
      "     flagged       0.73      0.36      0.48        22\n",
      "\n",
      "    accuracy                           0.61        44\n",
      "   macro avg       0.65      0.61      0.59        44\n",
      "weighted avg       0.65      0.61      0.59        44\n",
      "\n",
      "Epoch 10/10 - Training loss: 0.0083\n",
      "Validation Results:\n",
      "              precision    recall  f1-score   support\n",
      "\n",
      "       clean       0.56      0.86      0.68        22\n",
      "     flagged       0.70      0.32      0.44        22\n",
      "\n",
      "    accuracy                           0.59        44\n",
      "   macro avg       0.63      0.59      0.56        44\n",
      "weighted avg       0.63      0.59      0.56        44\n",
      "\n"
     ]
    }
   ],
   "source": [
    "epochs = 10\n",
    "for epoch in range(epochs):\n",
    "    model.train()\n",
    "    total_loss = 0\n",
    "    for batch in train_loader:\n",
    "        optimizer.zero_grad()\n",
    "        input_ids = batch['input_ids'].to(device)\n",
    "        attention_mask = batch['attention_mask'].to(device)\n",
    "        labels = batch['label'].to(device)\n",
    "        outputs = model(input_ids, attention_mask=attention_mask, labels=labels)\n",
    "        loss = outputs.loss\n",
    "        total_loss += loss.item()\n",
    "        loss.backward()\n",
    "        optimizer.step()\n",
    "    avg_train_loss = total_loss / len(train_loader)\n",
    "    print(f\"Epoch {epoch+1}/{epochs} - Training loss: {avg_train_loss:.4f}\")\n",
    "    model.eval()\n",
    "    preds, true_labels = [], []\n",
    "    with torch.no_grad():\n",
    "        for batch in val_loader:\n",
    "            input_ids = batch['input_ids'].to(device)\n",
    "            attention_mask = batch['attention_mask'].to(device)\n",
    "            labels = batch['label'].to(device)\n",
    "            \n",
    "            outputs = model(input_ids, attention_mask=attention_mask)\n",
    "            logits = outputs.logits\n",
    "            preds.extend(torch.argmax(logits, dim=1).cpu().numpy())\n",
    "            true_labels.extend(labels.cpu().numpy())\n",
    "    print(\"Validation Results:\")\n",
    "    print(classification_report(true_labels, preds, target_names=[\"clean\", \"flagged\"]))"
   ]
  },
  {
   "cell_type": "markdown",
   "id": "df8c34d6",
   "metadata": {},
   "source": [
    "## Sample input"
   ]
  },
  {
   "cell_type": "code",
   "execution_count": 41,
   "id": "dd4559d1",
   "metadata": {},
   "outputs": [],
   "source": [
    "reviews = [\n",
    "    \"You can review a lake? How does that work\",\n",
    "    \"I work for them Barre Vt Location\",\n",
    "    \"Didn't go here lol\",\n",
    "    \"Awesome Customer service, quick response, and willing to help whether you are a customer or not. A+ we need more businesses like this.\"\n",
    "]\n",
    "inputs = tokenizer(reviews, padding=True, truncation=True, max_length=128, return_tensors=\"pt\")\n",
    "inputs = {k: v.to(device) for k, v in inputs.items()}"
   ]
  },
  {
   "cell_type": "markdown",
   "id": "97b3f77e",
   "metadata": {},
   "source": [
    "## Predictions"
   ]
  },
  {
   "cell_type": "code",
   "execution_count": 42,
   "id": "a63a0bc0",
   "metadata": {},
   "outputs": [
    {
     "name": "stdout",
     "output_type": "stream",
     "text": [
      "Review: You can review a lake? How does that work\n",
      "Predicted label: flagged\n",
      "\n",
      "Review: I work for them Barre Vt Location\n",
      "Predicted label: flagged\n",
      "\n",
      "Review: Didn't go here lol\n",
      "Predicted label: flagged\n",
      "\n",
      "Review: Awesome Customer service, quick response, and willing to help whether you are a customer or not. A+ we need more businesses like this.\n",
      "Predicted label: clean\n",
      "\n"
     ]
    }
   ],
   "source": [
    "with torch.no_grad():\n",
    "    outputs = model(**inputs)\n",
    "    logits = outputs.logits\n",
    "    predictions = torch.argmax(logits, dim=1)\n",
    "for review, pred in zip(reviews, predictions):\n",
    "    label = \"clean\" if pred.item() == 0 else \"flagged\"\n",
    "    print(f\"Review: {review}\\nPredicted label: {label}\\n\")"
   ]
  }
 ],
 "metadata": {
  "kernelspec": {
   "display_name": "techjam2025",
   "language": "python",
   "name": "python3"
  },
  "language_info": {
   "codemirror_mode": {
    "name": "ipython",
    "version": 3
   },
   "file_extension": ".py",
   "mimetype": "text/x-python",
   "name": "python",
   "nbconvert_exporter": "python",
   "pygments_lexer": "ipython3",
   "version": "3.13.5"
  }
 },
 "nbformat": 4,
 "nbformat_minor": 5
}
