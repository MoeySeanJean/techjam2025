{
 "cells": [
  {
   "cell_type": "markdown",
   "id": "e330e9b7",
   "metadata": {},
   "source": [
    "# BERT solution"
   ]
  },
  {
   "cell_type": "markdown",
   "id": "22ad88ad",
   "metadata": {},
   "source": [
    "This is our solution with BERT binary classification. We chose to analyse reviews that have text only (as mentioned in `README.md`). This solution is fast and cheap, as well as great accuracy."
   ]
  },
  {
   "cell_type": "markdown",
   "id": "a0e204a6",
   "metadata": {},
   "source": [
    "## Install packages"
   ]
  },
  {
   "cell_type": "markdown",
   "id": "1a65d20c",
   "metadata": {},
   "source": [
    "Download torch according to official website and CUDA version as mentioned in `README.md`."
   ]
  },
  {
   "cell_type": "code",
   "execution_count": null,
   "id": "8f2fb74b",
   "metadata": {},
   "outputs": [],
   "source": [
    "%pip install transformers datasets scikit-learn pandas\n",
    "%pip install torch torchvision --index-url https://download.pytorch.org/whl/cu129"
   ]
  },
  {
   "cell_type": "markdown",
   "id": "8568a368",
   "metadata": {},
   "source": [
    "## Import packages"
   ]
  },
  {
   "cell_type": "code",
   "execution_count": null,
   "id": "0d86df68",
   "metadata": {},
   "outputs": [],
   "source": [
    "import torch\n",
    "from torch.optim import AdamW\n",
    "from torch.utils.data import DataLoader\n",
    "from transformers import BertTokenizer, BertForSequenceClassification\n",
    "from sklearn.model_selection import train_test_split\n",
    "from sklearn.metrics import classification_report\n",
    "from datasets import Dataset\n",
    "import pandas as pd"
   ]
  },
  {
   "cell_type": "markdown",
   "id": "6d92fe06",
   "metadata": {},
   "source": [
    "## Load data"
   ]
  },
  {
   "cell_type": "markdown",
   "id": "9b344653",
   "metadata": {},
   "source": [
    "We used the gpt-5 labelled data as our training data."
   ]
  },
  {
   "cell_type": "code",
   "execution_count": null,
   "id": "d4f4358b",
   "metadata": {},
   "outputs": [],
   "source": [
    "data = pd.read_csv(\"./data/review-Vermont_10-cleaned.csv\")\n",
    "train_df, val_df = train_test_split(\n",
    "    data,\n",
    "    test_size=0.2,\n",
    "    stratify=data['label'],\n",
    "    random_state=42\n",
    ")\n",
    "train_dataset = Dataset.from_pandas(train_df.reset_index(drop=True))\n",
    "val_dataset = Dataset.from_pandas(val_df.reset_index(drop=True))"
   ]
  },
  {
   "cell_type": "markdown",
   "id": "92eff97b",
   "metadata": {},
   "source": [
    "## Load tokenizer"
   ]
  },
  {
   "cell_type": "markdown",
   "id": "3109caaa",
   "metadata": {},
   "source": [
    "Tokenize the dataset with BERT tokenizer."
   ]
  },
  {
   "cell_type": "code",
   "execution_count": null,
   "id": "989b7a07",
   "metadata": {},
   "outputs": [],
   "source": [
    "tokenizer = BertTokenizer.from_pretrained(\"bert-base-uncased\")\n",
    "def tokenize(batch):\n",
    "    return tokenizer(batch['text'], padding='max_length', truncation=True, max_length=128)\n",
    "train_dataset = train_dataset.map(tokenize, batched=True)\n",
    "val_dataset = val_dataset.map(tokenize, batched=True)\n",
    "train_dataset.set_format(type='torch', columns=['input_ids', 'attention_mask', 'label'])\n",
    "val_dataset.set_format(type='torch', columns=['input_ids', 'attention_mask', 'label'])\n",
    "train_loader = DataLoader(train_dataset, batch_size=8, shuffle=True)\n",
    "val_loader = DataLoader(val_dataset, batch_size=8)"
   ]
  },
  {
   "cell_type": "markdown",
   "id": "f6c5f8d7",
   "metadata": {},
   "source": [
    "## Load model"
   ]
  },
  {
   "cell_type": "markdown",
   "id": "1d2872e2",
   "metadata": {},
   "source": [
    "BERT is the main model for our solution."
   ]
  },
  {
   "cell_type": "code",
   "execution_count": null,
   "id": "bccef283",
   "metadata": {},
   "outputs": [],
   "source": [
    "device = torch.device(\"cuda\" if torch.cuda.is_available() else \"cpu\")\n",
    "model = BertForSequenceClassification.from_pretrained(\"bert-base-uncased\", num_labels=2)\n",
    "model.to(device)\n",
    "optimizer = AdamW(model.parameters(), lr=2e-5)"
   ]
  },
  {
   "cell_type": "markdown",
   "id": "80e9025c",
   "metadata": {},
   "source": [
    "## Training model"
   ]
  },
  {
   "cell_type": "markdown",
   "id": "4c4e4e36",
   "metadata": {},
   "source": [
    "We trained the model with 10 epochs."
   ]
  },
  {
   "cell_type": "code",
   "execution_count": null,
   "id": "68692301",
   "metadata": {},
   "outputs": [],
   "source": [
    "epochs = 10\n",
    "for epoch in range(epochs):\n",
    "    model.train()\n",
    "    total_loss = 0\n",
    "    for batch in train_loader:\n",
    "        optimizer.zero_grad()\n",
    "        input_ids = batch['input_ids'].to(device)\n",
    "        attention_mask = batch['attention_mask'].to(device)\n",
    "        labels = batch['label'].to(device)\n",
    "        outputs = model(input_ids, attention_mask=attention_mask, labels=labels)\n",
    "        loss = outputs.loss\n",
    "        total_loss += loss.item()\n",
    "        loss.backward()\n",
    "        optimizer.step()\n",
    "    avg_train_loss = total_loss / len(train_loader)\n",
    "    print(f\"Epoch {epoch+1}/{epochs} - Training loss: {avg_train_loss:.4f}\")\n",
    "    model.eval()\n",
    "    preds, true_labels = [], []\n",
    "    with torch.no_grad():\n",
    "        for batch in val_loader:\n",
    "            input_ids = batch['input_ids'].to(device)\n",
    "            attention_mask = batch['attention_mask'].to(device)\n",
    "            labels = batch['label'].to(device)\n",
    "            \n",
    "            outputs = model(input_ids, attention_mask=attention_mask)\n",
    "            logits = outputs.logits\n",
    "            preds.extend(torch.argmax(logits, dim=1).cpu().numpy())\n",
    "            true_labels.extend(labels.cpu().numpy())\n",
    "    print(\"Validation Results:\")\n",
    "    print(classification_report(true_labels, preds, target_names=[\"clean\", \"flagged\"]))"
   ]
  },
  {
   "cell_type": "markdown",
   "id": "df8c34d6",
   "metadata": {},
   "source": [
    "## Sample input"
   ]
  },
  {
   "cell_type": "markdown",
   "id": "ed44ae0b",
   "metadata": {},
   "source": [
    "Test samples from other sources."
   ]
  },
  {
   "cell_type": "code",
   "execution_count": null,
   "id": "dd4559d1",
   "metadata": {},
   "outputs": [],
   "source": [
    "reviews = [\n",
    "    \"You can review a lake? How does that work\",\n",
    "    \"I work for them Barre Vt Location\",\n",
    "    \"Didn't go here lol\",\n",
    "    \"Awesome Customer service, quick response, and willing to help whether you are a customer or not. A+ we need more businesses like this.\"\n",
    "]\n",
    "inputs = tokenizer(reviews, padding=True, truncation=True, max_length=128, return_tensors=\"pt\")\n",
    "inputs = {k: v.to(device) for k, v in inputs.items()}"
   ]
  },
  {
   "cell_type": "markdown",
   "id": "97b3f77e",
   "metadata": {},
   "source": [
    "## Predictions"
   ]
  },
  {
   "cell_type": "markdown",
   "id": "cf4ebf2a",
   "metadata": {},
   "source": [
    "Test predictions for the test samples."
   ]
  },
  {
   "cell_type": "code",
   "execution_count": null,
   "id": "a63a0bc0",
   "metadata": {},
   "outputs": [],
   "source": [
    "with torch.no_grad():\n",
    "    outputs = model(**inputs)\n",
    "    logits = outputs.logits\n",
    "    predictions = torch.argmax(logits, dim=1)\n",
    "for review, pred in zip(reviews, predictions):\n",
    "    label = \"clean\" if pred.item() == 0 else \"flagged\"\n",
    "    print(f\"Review: {review}\\nPredicted label: {label}\\n\")"
   ]
  }
 ],
 "metadata": {
  "kernelspec": {
   "display_name": "techjam2025",
   "language": "python",
   "name": "python3"
  },
  "language_info": {
   "codemirror_mode": {
    "name": "ipython",
    "version": 3
   },
   "file_extension": ".py",
   "mimetype": "text/x-python",
   "name": "python",
   "nbconvert_exporter": "python",
   "pygments_lexer": "ipython3",
   "version": "3.13.5"
  }
 },
 "nbformat": 4,
 "nbformat_minor": 5
}
