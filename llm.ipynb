{
 "cells": [
  {
   "cell_type": "markdown",
   "id": "e7e8b7cc",
   "metadata": {},
   "source": [
    "# Initial Testing with pretrained LLM (Gemma, Qwen)"
   ]
  },
  {
   "cell_type": "markdown",
   "id": "b4e2ba54",
   "metadata": {},
   "source": [
    "## Install packages"
   ]
  },
  {
   "cell_type": "code",
   "execution_count": 1,
   "id": "8ad8d831",
   "metadata": {},
   "outputs": [
    {
     "name": "stdout",
     "output_type": "stream",
     "text": [
      "Requirement already satisfied: python-dotenv in c:\\.conda\\envs\\techjam2025\\lib\\site-packages (1.1.1)\n",
      "Requirement already satisfied: huggingface_hub in c:\\.conda\\envs\\techjam2025\\lib\\site-packages (0.34.4)\n",
      "Requirement already satisfied: pandas in c:\\.conda\\envs\\techjam2025\\lib\\site-packages (2.3.2)\n",
      "Requirement already satisfied: transformers in c:\\.conda\\envs\\techjam2025\\lib\\site-packages (4.55.4)\n",
      "Requirement already satisfied: hf_xet in c:\\.conda\\envs\\techjam2025\\lib\\site-packages (1.1.8)\n",
      "Requirement already satisfied: accelerate in c:\\.conda\\envs\\techjam2025\\lib\\site-packages (1.10.1)\n",
      "Requirement already satisfied: filelock in c:\\.conda\\envs\\techjam2025\\lib\\site-packages (from huggingface_hub) (3.19.1)\n",
      "Requirement already satisfied: fsspec>=2023.5.0 in c:\\.conda\\envs\\techjam2025\\lib\\site-packages (from huggingface_hub) (2025.7.0)\n",
      "Requirement already satisfied: packaging>=20.9 in c:\\.conda\\envs\\techjam2025\\lib\\site-packages (from huggingface_hub) (25.0)\n",
      "Requirement already satisfied: pyyaml>=5.1 in c:\\.conda\\envs\\techjam2025\\lib\\site-packages (from huggingface_hub) (6.0.2)\n",
      "Requirement already satisfied: requests in c:\\.conda\\envs\\techjam2025\\lib\\site-packages (from huggingface_hub) (2.32.5)\n",
      "Requirement already satisfied: tqdm>=4.42.1 in c:\\.conda\\envs\\techjam2025\\lib\\site-packages (from huggingface_hub) (4.67.1)\n",
      "Requirement already satisfied: typing-extensions>=3.7.4.3 in c:\\.conda\\envs\\techjam2025\\lib\\site-packages (from huggingface_hub) (4.15.0)\n",
      "Requirement already satisfied: numpy>=1.26.0 in c:\\.conda\\envs\\techjam2025\\lib\\site-packages (from pandas) (2.3.2)\n",
      "Requirement already satisfied: python-dateutil>=2.8.2 in c:\\.conda\\envs\\techjam2025\\lib\\site-packages (from pandas) (2.9.0.post0)\n",
      "Requirement already satisfied: pytz>=2020.1 in c:\\.conda\\envs\\techjam2025\\lib\\site-packages (from pandas) (2025.2)\n",
      "Requirement already satisfied: tzdata>=2022.7 in c:\\.conda\\envs\\techjam2025\\lib\\site-packages (from pandas) (2025.2)\n",
      "Requirement already satisfied: regex!=2019.12.17 in c:\\.conda\\envs\\techjam2025\\lib\\site-packages (from transformers) (2025.7.34)\n",
      "Requirement already satisfied: tokenizers<0.22,>=0.21 in c:\\.conda\\envs\\techjam2025\\lib\\site-packages (from transformers) (0.21.4)\n",
      "Requirement already satisfied: safetensors>=0.4.3 in c:\\.conda\\envs\\techjam2025\\lib\\site-packages (from transformers) (0.6.2)\n",
      "Requirement already satisfied: psutil in c:\\.conda\\envs\\techjam2025\\lib\\site-packages (from accelerate) (7.0.0)\n",
      "Requirement already satisfied: torch>=2.0.0 in c:\\.conda\\envs\\techjam2025\\lib\\site-packages (from accelerate) (2.8.0+cu129)\n",
      "Requirement already satisfied: six>=1.5 in c:\\.conda\\envs\\techjam2025\\lib\\site-packages (from python-dateutil>=2.8.2->pandas) (1.17.0)\n",
      "Requirement already satisfied: sympy>=1.13.3 in c:\\.conda\\envs\\techjam2025\\lib\\site-packages (from torch>=2.0.0->accelerate) (1.13.3)\n",
      "Requirement already satisfied: networkx in c:\\.conda\\envs\\techjam2025\\lib\\site-packages (from torch>=2.0.0->accelerate) (3.3)\n",
      "Requirement already satisfied: jinja2 in c:\\.conda\\envs\\techjam2025\\lib\\site-packages (from torch>=2.0.0->accelerate) (3.1.4)\n",
      "Requirement already satisfied: setuptools in c:\\.conda\\envs\\techjam2025\\lib\\site-packages (from torch>=2.0.0->accelerate) (78.1.1)\n",
      "Requirement already satisfied: mpmath<1.4,>=1.1.0 in c:\\.conda\\envs\\techjam2025\\lib\\site-packages (from sympy>=1.13.3->torch>=2.0.0->accelerate) (1.3.0)\n",
      "Requirement already satisfied: colorama in c:\\.conda\\envs\\techjam2025\\lib\\site-packages (from tqdm>=4.42.1->huggingface_hub) (0.4.6)\n",
      "Requirement already satisfied: MarkupSafe>=2.0 in c:\\.conda\\envs\\techjam2025\\lib\\site-packages (from jinja2->torch>=2.0.0->accelerate) (2.1.5)\n",
      "Requirement already satisfied: charset_normalizer<4,>=2 in c:\\.conda\\envs\\techjam2025\\lib\\site-packages (from requests->huggingface_hub) (3.4.3)\n",
      "Requirement already satisfied: idna<4,>=2.5 in c:\\.conda\\envs\\techjam2025\\lib\\site-packages (from requests->huggingface_hub) (3.10)\n",
      "Requirement already satisfied: urllib3<3,>=1.21.1 in c:\\.conda\\envs\\techjam2025\\lib\\site-packages (from requests->huggingface_hub) (2.5.0)\n",
      "Requirement already satisfied: certifi>=2017.4.17 in c:\\.conda\\envs\\techjam2025\\lib\\site-packages (from requests->huggingface_hub) (2025.8.3)\n",
      "Note: you may need to restart the kernel to use updated packages.\n",
      "Looking in indexes: https://download.pytorch.org/whl/cu129\n",
      "Requirement already satisfied: torch in c:\\.conda\\envs\\techjam2025\\lib\\site-packages (2.8.0+cu129)\n",
      "Requirement already satisfied: torchvision in c:\\.conda\\envs\\techjam2025\\lib\\site-packages (0.23.0+cu129)\n",
      "Requirement already satisfied: filelock in c:\\.conda\\envs\\techjam2025\\lib\\site-packages (from torch) (3.19.1)\n",
      "Requirement already satisfied: typing-extensions>=4.10.0 in c:\\.conda\\envs\\techjam2025\\lib\\site-packages (from torch) (4.15.0)\n",
      "Requirement already satisfied: sympy>=1.13.3 in c:\\.conda\\envs\\techjam2025\\lib\\site-packages (from torch) (1.13.3)\n",
      "Requirement already satisfied: networkx in c:\\.conda\\envs\\techjam2025\\lib\\site-packages (from torch) (3.3)\n",
      "Requirement already satisfied: jinja2 in c:\\.conda\\envs\\techjam2025\\lib\\site-packages (from torch) (3.1.4)\n",
      "Requirement already satisfied: fsspec in c:\\.conda\\envs\\techjam2025\\lib\\site-packages (from torch) (2025.7.0)\n",
      "Requirement already satisfied: setuptools in c:\\.conda\\envs\\techjam2025\\lib\\site-packages (from torch) (78.1.1)\n",
      "Requirement already satisfied: numpy in c:\\.conda\\envs\\techjam2025\\lib\\site-packages (from torchvision) (2.3.2)\n",
      "Requirement already satisfied: pillow!=8.3.*,>=5.3.0 in c:\\.conda\\envs\\techjam2025\\lib\\site-packages (from torchvision) (11.0.0)\n",
      "Requirement already satisfied: mpmath<1.4,>=1.1.0 in c:\\.conda\\envs\\techjam2025\\lib\\site-packages (from sympy>=1.13.3->torch) (1.3.0)\n",
      "Requirement already satisfied: MarkupSafe>=2.0 in c:\\.conda\\envs\\techjam2025\\lib\\site-packages (from jinja2->torch) (2.1.5)\n",
      "Note: you may need to restart the kernel to use updated packages.\n"
     ]
    }
   ],
   "source": [
    "%pip install python-dotenv huggingface_hub pandas transformers hf_xet accelerate\n",
    "%pip install torch torchvision --index-url https://download.pytorch.org/whl/cu129"
   ]
  },
  {
   "cell_type": "markdown",
   "id": "fc97c614",
   "metadata": {},
   "source": [
    "## Import packages"
   ]
  },
  {
   "cell_type": "code",
   "execution_count": 12,
   "id": "12174ac6",
   "metadata": {},
   "outputs": [],
   "source": [
    "import os\n",
    "from dotenv import load_dotenv\n",
    "import pandas as pd\n",
    "from huggingface_hub import login, InferenceClient\n",
    "import re"
   ]
  },
  {
   "cell_type": "markdown",
   "id": "3a9426a1",
   "metadata": {},
   "source": [
    "## Login to HuggingFace"
   ]
  },
  {
   "cell_type": "code",
   "execution_count": 10,
   "id": "2822c0c8",
   "metadata": {},
   "outputs": [
    {
     "name": "stderr",
     "output_type": "stream",
     "text": [
      "Note: Environment variable`HF_TOKEN` is set and is the current active token independently from the token you've just configured.\n"
     ]
    }
   ],
   "source": [
    "load_dotenv()\n",
    "hf_token = os.getenv(\"HF_TOKEN\")\n",
    "login(token=hf_token)"
   ]
  },
  {
   "cell_type": "markdown",
   "id": "0f692849",
   "metadata": {},
   "source": [
    "## Load Dataset (kaggle)"
   ]
  },
  {
   "cell_type": "code",
   "execution_count": 4,
   "id": "c4beb1f2",
   "metadata": {},
   "outputs": [
    {
     "name": "stdout",
     "output_type": "stream",
     "text": [
      "                     business_name    author_name  \\\n",
      "0  Haci'nin Yeri - Yigit Lokantasi    Gulsum Akar   \n",
      "1  Haci'nin Yeri - Yigit Lokantasi  Oguzhan Cetin   \n",
      "2  Haci'nin Yeri - Yigit Lokantasi     Yasin Kuyu   \n",
      "3  Haci'nin Yeri - Yigit Lokantasi     Orhan Kapu   \n",
      "4  Haci'nin Yeri - Yigit Lokantasi     Ozgur Sati   \n",
      "\n",
      "                                                text  \\\n",
      "0  We went to Marmaris with my wife for a holiday...   \n",
      "1  During my holiday in Marmaris we ate here to f...   \n",
      "2  Prices are very affordable. The menu in the ph...   \n",
      "3  Turkey's cheapest artisan restaurant and its f...   \n",
      "4  I don't know what you will look for in terms o...   \n",
      "\n",
      "                                               photo  rating  \\\n",
      "0         dataset/taste/hacinin_yeri_gulsum_akar.png       5   \n",
      "1        dataset/menu/hacinin_yeri_oguzhan_cetin.png       4   \n",
      "2  dataset/outdoor_atmosphere/hacinin_yeri_yasin_...       3   \n",
      "3  dataset/indoor_atmosphere/hacinin_yeri_orhan_k...       5   \n",
      "4           dataset/menu/hacinin_yeri_ozgur_sati.png       3   \n",
      "\n",
      "      rating_category  \n",
      "0               taste  \n",
      "1                menu  \n",
      "2  outdoor_atmosphere  \n",
      "3   indoor_atmosphere  \n",
      "4                menu  \n",
      "1100\n",
      "1100\n"
     ]
    }
   ],
   "source": [
    "df = pd.read_csv(\"./data/reviews.csv\")\n",
    "reviews = df[\"text\"].dropna().tolist()\n",
    "print(df.head())\n",
    "print(len(df))\n",
    "print(len(reviews))"
   ]
  },
  {
   "cell_type": "markdown",
   "id": "61d812d3",
   "metadata": {},
   "source": [
    "## Prompt design"
   ]
  },
  {
   "cell_type": "code",
   "execution_count": 11,
   "id": "78412b38",
   "metadata": {},
   "outputs": [
    {
     "name": "stdout",
     "output_type": "stream",
     "text": [
      "\n",
      "Classify the following Google review into one category.\n",
      "Categories: [Advertisement, Irrelevant Content, Rant Without Visit, Clean]\n",
      "Respond with only the category name.\n",
      "\n",
      "Review: We went to Marmaris with my wife for a holiday. We chose this restaurant as a place for dinner based on the reviews and because we wanted juicy food. When we first went there was a serious queue. You proceed by taking the food you want in the form of an open buffet. Both vegetable dishes and meat dishes were plentiful. There was also dessert for those who wanted it. After you get what you want you pay at the cashier. They don't go through cards they work in cash. There was a lot of food variety. And the food prices were unbelievably cheap. We paid only 84 TL for all the meals here. It included buttermilk and bread. But unfortunately I can't say it's too clean as a place..\n",
      "Answer:\n",
      "\n"
     ]
    }
   ],
   "source": [
    "prompts = [f\"\"\"\n",
    "Classify the following Google review into one category.\n",
    "Categories: [Advertisement, Irrelevant Content, Rant Without Visit, Clean]\n",
    "Respond with only the category name.\n",
    "\n",
    "Review: {review}\n",
    "Answer:\n",
    "\"\"\" for review in reviews]\n",
    "print(prompts[0])"
   ]
  },
  {
   "cell_type": "markdown",
   "id": "e09a566e",
   "metadata": {},
   "source": [
    "## Inference pipeline (Qwen3 on cloud)"
   ]
  },
  {
   "cell_type": "markdown",
   "id": "13255094",
   "metadata": {},
   "source": [
    "### Zero shot inference"
   ]
  },
  {
   "cell_type": "code",
   "execution_count": 6,
   "id": "0e98a61a",
   "metadata": {},
   "outputs": [
    {
     "ename": "TypeError",
     "evalue": "expected string or bytes-like object, got 'ChatCompletionOutput'",
     "output_type": "error",
     "traceback": [
      "\u001b[31m---------------------------------------------------------------------------\u001b[39m",
      "\u001b[31mTypeError\u001b[39m                                 Traceback (most recent call last)",
      "\u001b[36mCell\u001b[39m\u001b[36m \u001b[39m\u001b[32mIn[6]\u001b[39m\u001b[32m, line 10\u001b[39m\n\u001b[32m      8\u001b[39m cleaned = []\n\u001b[32m      9\u001b[39m \u001b[38;5;28;01mfor\u001b[39;00m out \u001b[38;5;129;01min\u001b[39;00m results:\n\u001b[32m---> \u001b[39m\u001b[32m10\u001b[39m     parts = \u001b[43mre\u001b[49m\u001b[43m.\u001b[49m\u001b[43msplit\u001b[49m\u001b[43m(\u001b[49m\u001b[33;43mr\u001b[39;49m\u001b[33;43m\"\u001b[39;49m\u001b[33;43m</think>\u001b[39;49m\u001b[33;43m\"\u001b[39;49m\u001b[43m,\u001b[49m\u001b[43m \u001b[49m\u001b[43mout\u001b[49m\u001b[43m,\u001b[49m\u001b[43m \u001b[49m\u001b[43mmaxsplit\u001b[49m\u001b[43m=\u001b[49m\u001b[32;43m1\u001b[39;49m\u001b[43m,\u001b[49m\u001b[43m \u001b[49m\u001b[43mflags\u001b[49m\u001b[43m=\u001b[49m\u001b[43mre\u001b[49m\u001b[43m.\u001b[49m\u001b[43mDOTALL\u001b[49m\u001b[43m)\u001b[49m\n\u001b[32m     11\u001b[39m     \u001b[38;5;28;01mif\u001b[39;00m \u001b[38;5;28mlen\u001b[39m(parts) > \u001b[32m1\u001b[39m:\n\u001b[32m     12\u001b[39m         cleaned.append(parts[\u001b[32m1\u001b[39m].strip())\n",
      "\u001b[36mFile \u001b[39m\u001b[32mc:\\.conda\\envs\\techjam2025\\Lib\\re\\__init__.py:267\u001b[39m, in \u001b[36msplit\u001b[39m\u001b[34m(pattern, string, maxsplit, flags, *args)\u001b[39m\n\u001b[32m    261\u001b[39m     \u001b[38;5;28;01mimport\u001b[39;00m\u001b[38;5;250m \u001b[39m\u001b[34;01mwarnings\u001b[39;00m\n\u001b[32m    262\u001b[39m     warnings.warn(\n\u001b[32m    263\u001b[39m         \u001b[33m\"\u001b[39m\u001b[33m'\u001b[39m\u001b[33mmaxsplit\u001b[39m\u001b[33m'\u001b[39m\u001b[33m is passed as positional argument\u001b[39m\u001b[33m\"\u001b[39m,\n\u001b[32m    264\u001b[39m         \u001b[38;5;167;01mDeprecationWarning\u001b[39;00m, stacklevel=\u001b[32m2\u001b[39m\n\u001b[32m    265\u001b[39m     )\n\u001b[32m--> \u001b[39m\u001b[32m267\u001b[39m \u001b[38;5;28;01mreturn\u001b[39;00m \u001b[43m_compile\u001b[49m\u001b[43m(\u001b[49m\u001b[43mpattern\u001b[49m\u001b[43m,\u001b[49m\u001b[43m \u001b[49m\u001b[43mflags\u001b[49m\u001b[43m)\u001b[49m\u001b[43m.\u001b[49m\u001b[43msplit\u001b[49m\u001b[43m(\u001b[49m\u001b[43mstring\u001b[49m\u001b[43m,\u001b[49m\u001b[43m \u001b[49m\u001b[43mmaxsplit\u001b[49m\u001b[43m)\u001b[49m\n",
      "\u001b[31mTypeError\u001b[39m: expected string or bytes-like object, got 'ChatCompletionOutput'"
     ]
    }
   ],
   "source": [
    "client = InferenceClient()\n",
    "results = [client.chat_completion(\n",
    "    model=\"Qwen/Qwen3-8B\",\n",
    "    messages=[\n",
    "        {\"role\": \"user\", \"content\": prompt}\n",
    "    ]\n",
    ") for prompt in prompts]\n",
    "cleaned = []\n",
    "for out in results:\n",
    "    parts = re.split(r\"</think>\", out.choices[0].message.content, maxsplit=1, flags=re.DOTALL)\n",
    "    if len(parts) > 1:\n",
    "        cleaned.append(parts[1].strip())\n",
    "    else:\n",
    "        cleaned.append(out.choices[0].message.content.strip())\n",
    "print(cleaned)"
   ]
  },
  {
   "cell_type": "markdown",
   "id": "918032a5",
   "metadata": {},
   "source": [
    "### Few shots inference"
   ]
  },
  {
   "cell_type": "code",
   "execution_count": null,
   "id": "460a8c78",
   "metadata": {},
   "outputs": [
    {
     "name": "stdout",
     "output_type": "stream",
     "text": [
      "['Clean']\n"
     ]
    }
   ],
   "source": [
    "client = InferenceClient()\n",
    "results = [client.chat_completion(\n",
    "    model=\"Qwen/Qwen3-8B\",\n",
    "    messages=[\n",
    "        {\"role\": \"user\", \"content\": \"I work for them Barre Vt Location\"},\n",
    "        {\"role\": \"assistant\", \"content\": \"Advertisement\"},\n",
    "        {\"role\": \"user\", \"content\": \"You can review a lake? How does that work\"},\n",
    "        {\"role\": \"assistant\", \"content\": \"Irrelevant Content\"},\n",
    "        {\"role\": \"user\", \"content\": \"Didn't go here lol\"},\n",
    "        {\"role\": \"assistant\", \"content\": \"Rant Without Visit\"},\n",
    "        {\"role\": \"user\", \"content\": \"We went to Marmaris with my wife for a holiday. We chose this restaurant as a place for dinner based on the reviews and because we wanted juicy food. When we first went there was a serious queue. You proceed by taking the food you want in the form of an open buffet. Both vegetable dishes and meat dishes were plentiful. There was also dessert for those who wanted it. After you get what you want you pay at the cashier. They don't go through cards they work in cash. There was a lot of food variety. And the food prices were unbelievably cheap. We paid only 84 TL for all the meals here. It included buttermilk and bread. But unfortunately I can't say it's too clean as a place.\"},\n",
    "        {\"role\": \"assistant\", \"content\": \"Clean\"},\n",
    "        {\"role\": \"user\", \"content\": prompt}\n",
    "    ]\n",
    ") for prompt in prompts]\n",
    "cleaned = []\n",
    "for out in results:\n",
    "    parts = re.split(r\"</think>\", out.choices[0].message.content, maxsplit=1, flags=re.DOTALL)\n",
    "    if len(parts) > 1:\n",
    "        cleaned.append(parts[1].strip())\n",
    "    else:\n",
    "        cleaned.append(out.choices[0].message.content.strip())\n",
    "print(cleaned)"
   ]
  }
 ],
 "metadata": {
  "kernelspec": {
   "display_name": "techjam2025",
   "language": "python",
   "name": "python3"
  },
  "language_info": {
   "codemirror_mode": {
    "name": "ipython",
    "version": 3
   },
   "file_extension": ".py",
   "mimetype": "text/x-python",
   "name": "python",
   "nbconvert_exporter": "python",
   "pygments_lexer": "ipython3",
   "version": "3.13.5"
  }
 },
 "nbformat": 4,
 "nbformat_minor": 5
}
