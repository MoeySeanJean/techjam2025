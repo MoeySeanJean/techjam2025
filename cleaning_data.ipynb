{
 "cells": [
  {
   "cell_type": "markdown",
   "id": "5a0d6716",
   "metadata": {},
   "source": [
    "## Data Cleaning\n",
    "### Install Packages"
   ]
  },
  {
   "cell_type": "markdown",
   "id": "3c055df6",
   "metadata": {},
   "source": [
    "### Import Packages"
   ]
  },
  {
   "cell_type": "code",
   "execution_count": 5,
   "id": "ee942ab5",
   "metadata": {},
   "outputs": [],
   "source": [
    "import json, csv\n",
    "from pathlib import Path\n",
    "from typing import Iterable, Dict, List, Optional\n"
   ]
  },
  {
   "cell_type": "markdown",
   "id": "0e291ce0",
   "metadata": {},
   "source": [
    "### Defining Function"
   ]
  },
  {
   "cell_type": "code",
   "execution_count": null,
   "id": "1e9708be",
   "metadata": {},
   "outputs": [],
   "source": [
    "def json_to_csv(\n",
    "    in_path: str,\n",
    "    out_path: str,\n",
    "    columns_order: Optional[List[str]] = None,\n",
    "    encoding: str = \"utf-8\",\n",
    "    write_bom: bool = True,\n",
    ") -> List[str]:\n",
    "    \n",
    "    in_path = Path(in_path)\n",
    "    out_path = Path(out_path)"
   ]
  }
 ],
 "metadata": {
  "kernelspec": {
   "display_name": "techjam2025",
   "language": "python",
   "name": "python3"
  },
  "language_info": {
   "codemirror_mode": {
    "name": "ipython",
    "version": 3
   },
   "file_extension": ".py",
   "mimetype": "text/x-python",
   "name": "python",
   "nbconvert_exporter": "python",
   "pygments_lexer": "ipython3",
   "version": "3.13.5"
  }
 },
 "nbformat": 4,
 "nbformat_minor": 5
}
